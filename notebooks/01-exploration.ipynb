{
 "cells": [
  {
   "cell_type": "markdown",
   "id": "2bfb6115-1c4a-4a68-a6df-c1e190ab85da",
   "metadata": {},
   "source": [
    "# Summary\n",
    "\n",
    "Short description\n",
    "\n",
    "Timebox: \n",
    "\n",
    "## Actions\n",
    "\n",
    "> Main action(s)\n",
    "\n",
    "**Suggestions:**\n",
    "\n",
    "## Questions\n",
    "\n",
    "## Inputs\n",
    "\n",
    "## Outputs\n",
    "\n",
    "## Results\n",
    "\n",
    "## Future Work\n"
   ]
  },
  {
   "cell_type": "code",
   "execution_count": null,
   "id": "4627d0d3-3ff5-4fca-a827-71b6a4c888f8",
   "metadata": {},
   "outputs": [],
   "source": []
  }
 ],
 "metadata": {
  "kernelspec": {
   "display_name": "Python 3 (ipykernel)",
   "language": "python",
   "name": "python3"
  },
  "language_info": {
   "codemirror_mode": {
    "name": "ipython",
    "version": 3
   },
   "file_extension": ".py",
   "mimetype": "text/x-python",
   "name": "python",
   "nbconvert_exporter": "python",
   "pygments_lexer": "ipython3",
   "version": "3.8.13"
  }
 },
 "nbformat": 4,
 "nbformat_minor": 5
}
